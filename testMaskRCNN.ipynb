{
 "cells": [
  {
   "cell_type": "code",
   "execution_count": 1,
   "metadata": {},
   "outputs": [],
   "source": [
    "import numpy as np\n",
    "from rcnn.utils.load_data import load_proposal_roidb\n",
    "from rcnn.utils.load_data import load_gt_roidb, merge_roidb, filter_roidb\n",
    "from rcnn.dataset.cityscape import Cityscape"
   ]
  },
  {
   "cell_type": "code",
   "execution_count": 2,
   "metadata": {},
   "outputs": [],
   "source": [
    "# TRAIN_DIR=model/res50-fpn/cityscape/alternate/\n",
    "# DATASET=Cityscape\n",
    "# SET=train\n",
    "# TEST_SET=val"
   ]
  },
  {
   "cell_type": "code",
   "execution_count": 3,
   "metadata": {},
   "outputs": [],
   "source": [
    "dataset = 'rcnn/data/cityscape'\n",
    "image_set = 'train'\n",
    "root_path = 'model/res50-fpn/cityscape/alternate/'"
   ]
  },
  {
   "cell_type": "code",
   "execution_count": 4,
   "metadata": {},
   "outputs": [],
   "source": [
    "#image_set = 'train'\n",
    "test_image_set = 'val'\n",
    "root_path = 'data'\n",
    "dataset_path = 'data/cityscape'"
   ]
  },
  {
   "cell_type": "code",
   "execution_count": 5,
   "metadata": {},
   "outputs": [],
   "source": [
    "image_sets = [iset for iset in image_set.split('+')]"
   ]
  },
  {
   "cell_type": "code",
   "execution_count": 6,
   "metadata": {},
   "outputs": [
    {
     "data": {
      "text/plain": [
       "['train']"
      ]
     },
     "execution_count": 6,
     "metadata": {},
     "output_type": "execute_result"
    }
   ],
   "source": [
    "image_sets"
   ]
  },
  {
   "cell_type": "code",
   "execution_count": 7,
   "metadata": {},
   "outputs": [],
   "source": [
    "no_flip = True"
   ]
  },
  {
   "cell_type": "markdown",
   "metadata": {},
   "source": [
    "# load_gt_roidb\n",
    "# generate bounding box"
   ]
  },
  {
   "cell_type": "code",
   "execution_count": 38,
   "metadata": {},
   "outputs": [],
   "source": [
    "### labeling tools\n",
    "## https://www.reddit.com/r/computervision/comments/5jxhtc/image_segmentation_labelling_tool/"
   ]
  },
  {
   "cell_type": "code",
   "execution_count": 8,
   "metadata": {},
   "outputs": [
    {
     "name": "stdout",
     "output_type": "stream",
     "text": [
      "num_images 2975\n"
     ]
    }
   ],
   "source": [
    "imdb = Cityscape('train', 'data', dataset_path)"
   ]
  },
  {
   "cell_type": "code",
   "execution_count": 9,
   "metadata": {},
   "outputs": [
    {
     "name": "stdout",
     "output_type": "stream",
     "text": [
      "cityscape_train gt roidb loaded from data/cache/cityscape_train_gt_roidb.pkl\n"
     ]
    }
   ],
   "source": [
    "roidbs = imdb.gt_roidb()"
   ]
  },
  {
   "cell_type": "code",
   "execution_count": 10,
   "metadata": {},
   "outputs": [
    {
     "data": {
      "text/plain": [
       "list"
      ]
     },
     "execution_count": 10,
     "metadata": {},
     "output_type": "execute_result"
    }
   ],
   "source": [
    "type(roidbs)"
   ]
  },
  {
   "cell_type": "code",
   "execution_count": 11,
   "metadata": {},
   "outputs": [
    {
     "data": {
      "text/plain": [
       "2975"
      ]
     },
     "execution_count": 11,
     "metadata": {},
     "output_type": "execute_result"
    }
   ],
   "source": [
    "len(roidbs)"
   ]
  },
  {
   "cell_type": "markdown",
   "metadata": {},
   "source": [
    "## Show Image"
   ]
  },
  {
   "cell_type": "code",
   "execution_count": 12,
   "metadata": {},
   "outputs": [],
   "source": [
    "from matplotlib import pyplot as plt\n",
    "%matplotlib inline"
   ]
  },
  {
   "cell_type": "code",
   "execution_count": 13,
   "metadata": {},
   "outputs": [],
   "source": [
    "import cv2 as cv"
   ]
  },
  {
   "cell_type": "code",
   "execution_count": 99,
   "metadata": {},
   "outputs": [],
   "source": [
    "### origin read"
   ]
  },
  {
   "cell_type": "code",
   "execution_count": 101,
   "metadata": {},
   "outputs": [],
   "source": [
    "import PIL.Image as Image\n",
    "im = Image.open(roidbs[2]['ins_seg'])\n",
    "pixel = list(im.getdata())\n",
    "pixel = np.array(pixel).reshape([im.size[1], im.size[0]])"
   ]
  },
  {
   "cell_type": "code",
   "execution_count": 102,
   "metadata": {},
   "outputs": [
    {
     "data": {
      "text/plain": [
       "(0, 33002)"
      ]
     },
     "execution_count": 102,
     "metadata": {},
     "output_type": "execute_result"
    }
   ],
   "source": [
    "pixel.min(), pixel.max()"
   ]
  },
  {
   "cell_type": "code",
   "execution_count": 104,
   "metadata": {},
   "outputs": [
    {
     "data": {
      "text/plain": [
       "26008"
      ]
     },
     "execution_count": 104,
     "metadata": {},
     "output_type": "execute_result"
    }
   ],
   "source": [
    "pixel[412, 765]"
   ]
  },
  {
   "cell_type": "code",
   "execution_count": 109,
   "metadata": {},
   "outputs": [
    {
     "data": {
      "text/plain": [
       "24006"
      ]
     },
     "execution_count": 109,
     "metadata": {},
     "output_type": "execute_result"
    }
   ],
   "source": [
    "# [771, 408]\n",
    "pixel[408, 771]"
   ]
  },
  {
   "cell_type": "markdown",
   "metadata": {},
   "source": [
    "### image read"
   ]
  },
  {
   "cell_type": "code",
   "execution_count": 85,
   "metadata": {},
   "outputs": [],
   "source": [
    "image = cv.imread(roidbs[2]['ins_seg'])"
   ]
  },
  {
   "cell_type": "code",
   "execution_count": 98,
   "metadata": {},
   "outputs": [
    {
     "data": {
      "text/plain": [
       "33002"
      ]
     },
     "execution_count": 98,
     "metadata": {},
     "output_type": "execute_result"
    }
   ],
   "source": [
    "pixel.max()"
   ]
  },
  {
   "cell_type": "code",
   "execution_count": 86,
   "metadata": {},
   "outputs": [
    {
     "data": {
      "text/plain": [
       "<matplotlib.image.AxesImage at 0x7f146fc32050>"
      ]
     },
     "execution_count": 86,
     "metadata": {},
     "output_type": "execute_result"
    },
    {
     "data": {
      "image/png": "[encoded data removed]",
      "text/plain": [
       "<matplotlib.figure.Figure at 0x7f146fe82590>"
      ]
     },
     "metadata": {},
     "output_type": "display_data"
    }
   ],
   "source": [
    "plt.imshow(image)"
   ]
  },
  {
   "cell_type": "code",
   "execution_count": 87,
   "metadata": {},
   "outputs": [
    {
     "data": {
      "text/plain": [
       "(1024, 2048, 3)"
      ]
     },
     "execution_count": 87,
     "metadata": {},
     "output_type": "execute_result"
    }
   ],
   "source": [
    "image.shape"
   ]
  },
  {
   "cell_type": "code",
   "execution_count": 88,
   "metadata": {},
   "outputs": [
    {
     "data": {
      "text/plain": [
       "(0, 128, 3.871495246887207)"
      ]
     },
     "execution_count": 88,
     "metadata": {},
     "output_type": "execute_result"
    }
   ],
   "source": [
    "image.min(), image.max(), image.mean()"
   ]
  },
  {
   "cell_type": "code",
   "execution_count": 89,
   "metadata": {},
   "outputs": [
    {
     "data": {
      "text/plain": [
       "{'boxes': array([[1505,  376, 1524,  388],\n",
       "        [1628,  331, 1659,  436],\n",
       "        [1527,  329, 1588,  465],\n",
       "        [1830,  307, 1913,  505],\n",
       "        [2003,  482, 2026,  596],\n",
       "        [1933,  208, 2042,  624],\n",
       "        [1736,  263, 1846,  561],\n",
       "        [1650,  349, 1712,  469],\n",
       "        [ 824,  395,  830,  406],\n",
       "        [ 832,  385,  843,  406],\n",
       "        [1707,  308, 1830,  586],\n",
       "        [1858,  385, 1978,  587],\n",
       "        [1424,  347, 1464,  444],\n",
       "        [ 900,  393,  909,  423],\n",
       "        [ 842,  393,  852,  422],\n",
       "        [ 854,  392,  864,  421],\n",
       "        [ 643,  396,  669,  407],\n",
       "        [ 623,  375,  653,  451],\n",
       "        [ 669,  371,  705,  451],\n",
       "        [ 465,  379,  485,  426],\n",
       "        [ 492,  383,  524,  457],\n",
       "        [ 415,  361,  481,  521],\n",
       "        [ 576,  343,  630,  499],\n",
       "        [ 736,  342,  836,  537],\n",
       "        [ 924,  363,  978,  484],\n",
       "        [1047,  314, 1126,  532],\n",
       "        [ 208,  328,  280,  529],\n",
       "        [  60,  337,  173,  572],\n",
       "        [1294,  359, 1307,  426],\n",
       "        [1304,  356, 1324,  445],\n",
       "        [1299,  343, 1341,  448],\n",
       "        [ 218,  383,  362,  587]]),\n",
       " 'flipped': False,\n",
       " 'gt_classes': array([1, 1, 1, 1, 1, 1, 1, 1, 1, 1, 1, 1, 1, 1, 1, 1, 1, 1, 1, 1, 1, 1, 1,\n",
       "        1, 1, 1, 1, 1, 1, 1, 1, 8]),\n",
       " 'gt_overlaps': array([[ 0.,  1.,  0.,  0.,  0.,  0.,  0.,  0.,  0.],\n",
       "        [ 0.,  1.,  0.,  0.,  0.,  0.,  0.,  0.,  0.],\n",
       "        [ 0.,  1.,  0.,  0.,  0.,  0.,  0.,  0.,  0.],\n",
       "        [ 0.,  1.,  0.,  0.,  0.,  0.,  0.,  0.,  0.],\n",
       "        [ 0.,  1.,  0.,  0.,  0.,  0.,  0.,  0.,  0.],\n",
       "        [ 0.,  1.,  0.,  0.,  0.,  0.,  0.,  0.,  0.],\n",
       "        [ 0.,  1.,  0.,  0.,  0.,  0.,  0.,  0.,  0.],\n",
       "        [ 0.,  1.,  0.,  0.,  0.,  0.,  0.,  0.,  0.],\n",
       "        [ 0.,  1.,  0.,  0.,  0.,  0.,  0.,  0.,  0.],\n",
       "        [ 0.,  1.,  0.,  0.,  0.,  0.,  0.,  0.,  0.],\n",
       "        [ 0.,  1.,  0.,  0.,  0.,  0.,  0.,  0.,  0.],\n",
       "        [ 0.,  1.,  0.,  0.,  0.,  0.,  0.,  0.,  0.],\n",
       "        [ 0.,  1.,  0.,  0.,  0.,  0.,  0.,  0.,  0.],\n",
       "        [ 0.,  1.,  0.,  0.,  0.,  0.,  0.,  0.,  0.],\n",
       "        [ 0.,  1.,  0.,  0.,  0.,  0.,  0.,  0.,  0.],\n",
       "        [ 0.,  1.,  0.,  0.,  0.,  0.,  0.,  0.,  0.],\n",
       "        [ 0.,  1.,  0.,  0.,  0.,  0.,  0.,  0.,  0.],\n",
       "        [ 0.,  1.,  0.,  0.,  0.,  0.,  0.,  0.,  0.],\n",
       "        [ 0.,  1.,  0.,  0.,  0.,  0.,  0.,  0.,  0.],\n",
       "        [ 0.,  1.,  0.,  0.,  0.,  0.,  0.,  0.,  0.],\n",
       "        [ 0.,  1.,  0.,  0.,  0.,  0.,  0.,  0.,  0.],\n",
       "        [ 0.,  1.,  0.,  0.,  0.,  0.,  0.,  0.,  0.],\n",
       "        [ 0.,  1.,  0.,  0.,  0.,  0.,  0.,  0.,  0.],\n",
       "        [ 0.,  1.,  0.,  0.,  0.,  0.,  0.,  0.,  0.],\n",
       "        [ 0.,  1.,  0.,  0.,  0.,  0.,  0.,  0.,  0.],\n",
       "        [ 0.,  1.,  0.,  0.,  0.,  0.,  0.,  0.,  0.],\n",
       "        [ 0.,  1.,  0.,  0.,  0.,  0.,  0.,  0.,  0.],\n",
       "        [ 0.,  1.,  0.,  0.,  0.,  0.,  0.,  0.,  0.],\n",
       "        [ 0.,  1.,  0.,  0.,  0.,  0.,  0.,  0.,  0.],\n",
       "        [ 0.,  1.,  0.,  0.,  0.,  0.,  0.,  0.,  0.],\n",
       "        [ 0.,  1.,  0.,  0.,  0.,  0.,  0.,  0.,  0.],\n",
       "        [ 0.,  0.,  0.,  0.,  0.,  0.,  0.,  0.,  1.]]),\n",
       " 'height': 1024,\n",
       " 'image': 'data/cityscape/leftImg8bit/train/hanover/hanover_000000_027766_leftImg8bit.png',\n",
       " 'ins_id': array([ 0,  1,  2,  3,  4,  5,  6,  7,  8,  9, 10, 11, 12, 13, 14, 15, 16,\n",
       "        17, 18, 19, 20, 21, 22, 23, 24, 25, 26, 27, 28, 29, 30,  0]),\n",
       " 'ins_seg': 'data/cityscape/gtFine/train/hanover/hanover_000000_027766_gtFine_instanceIds.png',\n",
       " 'max_classes': array([1, 1, 1, 1, 1, 1, 1, 1, 1, 1, 1, 1, 1, 1, 1, 1, 1, 1, 1, 1, 1, 1, 1,\n",
       "        1, 1, 1, 1, 1, 1, 1, 1, 8]),\n",
       " 'max_overlaps': array([ 1.,  1.,  1.,  1.,  1.,  1.,  1.,  1.,  1.,  1.,  1.,  1.,  1.,\n",
       "         1.,  1.,  1.,  1.,  1.,  1.,  1.,  1.,  1.,  1.,  1.,  1.,  1.,\n",
       "         1.,  1.,  1.,  1.,  1.,  1.]),\n",
       " 'width': 2048}"
      ]
     },
     "execution_count": 89,
     "metadata": {},
     "output_type": "execute_result"
    }
   ],
   "source": [
    "roidbs[0]"
   ]
  },
  {
   "cell_type": "code",
   "execution_count": 105,
   "metadata": {},
   "outputs": [
    {
     "data": {
      "text/plain": [
       "[771, 408]"
      ]
     },
     "execution_count": 105,
     "metadata": {},
     "output_type": "execute_result"
    }
   ],
   "source": [
    "bbox1 = roidbs[2]['boxes'][6]\n",
    "center = [(bbox1[0]+bbox1[2])/2, (bbox1[1]+bbox1[3])/2]\n",
    "center"
   ]
  },
  {
   "cell_type": "code",
   "execution_count": 106,
   "metadata": {},
   "outputs": [
    {
     "data": {
      "text/plain": [
       "[<matplotlib.lines.Line2D at 0x7f14de1c9fd0>]"
      ]
     },
     "execution_count": 106,
     "metadata": {},
     "output_type": "execute_result"
    },
    {
     "data": {
      "image/png": "[encoded data removed]",
      "text/plain": [
       "<matplotlib.figure.Figure at 0x7f14de1c90d0>"
      ]
     },
     "metadata": {},
     "output_type": "display_data"
    }
   ],
   "source": [
    "plt.imshow(image)\n",
    "plt.plot(center[0], center[1], 'r*')"
   ]
  },
  {
   "cell_type": "code",
   "execution_count": 107,
   "metadata": {},
   "outputs": [
    {
     "data": {
      "text/plain": [
       "array([93, 93, 93], dtype=uint8)"
      ]
     },
     "execution_count": 107,
     "metadata": {},
     "output_type": "execute_result"
    }
   ],
   "source": [
    "image[center[1], center[0]]"
   ]
  },
  {
   "cell_type": "code",
   "execution_count": 108,
   "metadata": {},
   "outputs": [
    {
     "data": {
      "image/png": "[encoded data removed]",
      "text/plain": [
       "<matplotlib.figure.Figure at 0x7f14de1bc050>"
      ]
     },
     "metadata": {},
     "output_type": "display_data"
    }
   ],
   "source": [
    "import matplotlib.patches as patches\n",
    "\n",
    "fig,ax = plt.subplots(1)\n",
    "\n",
    "# Display the image\n",
    "ax.imshow(image)\n",
    "\n",
    "# Create a Rectangle patch\n",
    "rect = patches.Rectangle((bbox1[0],bbox1[1]),bbox1[2]-bbox1[0],bbox1[3]-bbox1[1],linewidth=1,edgecolor='r',facecolor='none')\n",
    "\n",
    "# Add the patch to the Axes\n",
    "ax.add_patch(rect)\n",
    "\n",
    "plt.show()"
   ]
  },
  {
   "cell_type": "markdown",
   "metadata": {},
   "source": [
    "# get_rpn_batch"
   ]
  },
  {
   "cell_type": "code",
   "execution_count": 25,
   "metadata": {},
   "outputs": [],
   "source": [
    "from rcnn.io.image import get_image, tensor_vstack\n",
    "import rcnn.config as config"
   ]
  },
  {
   "cell_type": "code",
   "execution_count": 26,
   "metadata": {},
   "outputs": [],
   "source": [
    "imgs, roidb = get_image(roidbs[0:10], scale=True)\n",
    "im_array = tensor_vstack(imgs)"
   ]
  },
  {
   "cell_type": "code",
   "execution_count": 27,
   "metadata": {},
   "outputs": [
    {
     "data": {
      "text/plain": [
       "(10, 3, 1015, 2031)"
      ]
     },
     "execution_count": 27,
     "metadata": {},
     "output_type": "execute_result"
    }
   ],
   "source": [
    "im_array.shape"
   ]
  },
  {
   "cell_type": "code",
   "execution_count": 28,
   "metadata": {},
   "outputs": [
    {
     "data": {
      "text/plain": [
       "10"
      ]
     },
     "execution_count": 28,
     "metadata": {},
     "output_type": "execute_result"
    }
   ],
   "source": [
    "len(imgs)"
   ]
  },
  {
   "cell_type": "code",
   "execution_count": 34,
   "metadata": {},
   "outputs": [
    {
     "name": "stdout",
     "output_type": "stream",
     "text": [
      "0 32\n",
      "1 2\n",
      "2 42\n",
      "3 22\n",
      "4 8\n",
      "5 18\n",
      "6 17\n",
      "7 18\n",
      "8 13\n",
      "9 5\n"
     ]
    }
   ],
   "source": [
    " # im_array = np.vstack(imgs)\n",
    "im_info = []\n",
    "gt_boxes = []\n",
    "\n",
    "for im_i in range(len(roidb)):\n",
    "    im_info.append(roidb[im_i]['im_info'])\n",
    "        # gt boxes: (x1, y1, x2, y2, cls)\n",
    "    print im_i, roidb[im_i]['gt_classes'].size\n",
    "    if roidb[im_i]['gt_classes'].size > 0:\n",
    "        gt_inds_i = np.where(roidb[im_i]['gt_classes'] != 0)[0]\n",
    "        gt_boxes_i = np.empty((roidb[im_i]['boxes'].shape[0], 5), dtype=np.float32)\n",
    "        gt_boxes_i[:, 0:4] = roidb[im_i]['boxes'][gt_inds_i, :]\n",
    "        gt_boxes_i[:, 4] = roidb[im_i]['gt_classes'][gt_inds_i]\n",
    "    else:\n",
    "        gt_boxes_i = np.ones((1, 5), dtype=np.float32) * -1\n",
    "    gt_boxes.append(gt_boxes_i[np.newaxis, :, :])\n",
    "\n",
    "im_info = np.array(im_info, dtype=np.float32)\n",
    "data = {'data': im_array, 'im_info': im_info}\n",
    "    # gt_boxes shape : [num_images, num_boxes, 5], type list\n",
    "label = {'gt_boxes': gt_boxes}\n"
   ]
  },
  {
   "cell_type": "code",
   "execution_count": 37,
   "metadata": {},
   "outputs": [
    {
     "data": {
      "text/plain": [
       "[array([[[  1.21475159e+03,   3.03486084e+02,   1.23008728e+03,\n",
       "            3.13171814e+02,   1.00000000e+00],\n",
       "         [  1.31403027e+03,   2.67164612e+02,   1.33905164e+03,\n",
       "            3.51914734e+02,   1.00000000e+00],\n",
       "         [  1.23250867e+03,   2.65550323e+02,   1.28174451e+03,\n",
       "            3.75321899e+02,   1.00000000e+00],\n",
       "         [  1.47707324e+03,   2.47793167e+02,   1.54406628e+03,\n",
       "            4.07607666e+02,   1.00000000e+00],\n",
       "         [  1.61670923e+03,   3.89043335e+02,   1.63527344e+03,\n",
       "            4.81057739e+02,   1.00000000e+00],\n",
       "         [  1.56020911e+03,   1.67885925e+02,   1.64818774e+03,\n",
       "            5.03657776e+02,   1.00000000e+00],\n",
       "         [  1.40120178e+03,   2.12278839e+02,   1.48998755e+03,\n",
       "            4.52807709e+02,   1.00000000e+00],\n",
       "         [  1.33178735e+03,   2.81693207e+02,   1.38183032e+03,\n",
       "            3.78550476e+02,   1.00000000e+00],\n",
       "         [  6.65086548e+02,   3.18821838e+02,   6.69929443e+02,\n",
       "            3.27700409e+02,   1.00000000e+00],\n",
       "         [  6.71543701e+02,   3.10750397e+02,   6.80422302e+02,\n",
       "            3.27700409e+02,   1.00000000e+00],\n",
       "         [  1.37779456e+03,   2.48600311e+02,   1.47707324e+03,\n",
       "            4.72986298e+02,   1.00000000e+00],\n",
       "         [  1.49967334e+03,   3.10750397e+02,   1.59653064e+03,\n",
       "            4.73793457e+02,   1.00000000e+00],\n",
       "         [  1.14937292e+03,   2.80078918e+02,   1.18165869e+03,\n",
       "            3.58371887e+02,   1.00000000e+00],\n",
       "         [  7.26429504e+02,   3.17207550e+02,   7.33693787e+02,\n",
       "            3.41421875e+02,   1.00000000e+00],\n",
       "         [  6.79615173e+02,   3.17207550e+02,   6.87686584e+02,\n",
       "            3.40614716e+02,   1.00000000e+00],\n",
       "         [  6.89300842e+02,   3.16400391e+02,   6.97372314e+02,\n",
       "            3.39807587e+02,   1.00000000e+00],\n",
       "         [  5.18993530e+02,   3.19628967e+02,   5.39979248e+02,\n",
       "            3.28507568e+02,   1.00000000e+00],\n",
       "         [  5.02850647e+02,   3.02678955e+02,   5.27064941e+02,\n",
       "            3.64021881e+02,   1.00000000e+00],\n",
       "         [  5.39979248e+02,   2.99450378e+02,   5.69036438e+02,\n",
       "            3.64021881e+02,   1.00000000e+00],\n",
       "         [  3.75321899e+02,   3.05907532e+02,   3.91464783e+02,\n",
       "            3.43843292e+02,   1.00000000e+00],\n",
       "         [  3.97114777e+02,   3.09136108e+02,   4.22943390e+02,\n",
       "            3.68864746e+02,   1.00000000e+00],\n",
       "         [  3.34964722e+02,   2.91378937e+02,   3.88236206e+02,\n",
       "            4.20521973e+02,   1.00000000e+00],\n",
       "         [  4.64914886e+02,   2.76850342e+02,   5.08500641e+02,\n",
       "            4.02764801e+02,   1.00000000e+00],\n",
       "         [  5.94057922e+02,   2.76043213e+02,   6.74772278e+02,\n",
       "            4.33436249e+02,   1.00000000e+00],\n",
       "         [  7.45800964e+02,   2.92993225e+02,   7.89386719e+02,\n",
       "            3.90657623e+02,   1.00000000e+00],\n",
       "         [  8.45079651e+02,   2.53443176e+02,   9.08843994e+02,\n",
       "            4.29400543e+02,   1.00000000e+00],\n",
       "         [  1.67885925e+02,   2.64743195e+02,   2.26000290e+02,\n",
       "            4.26979126e+02,   1.00000000e+00],\n",
       "         [  4.84286308e+01,   2.72007477e+02,   1.39635895e+02,\n",
       "            4.61686310e+02,   1.00000000e+00],\n",
       "         [  1.04444421e+03,   2.89764648e+02,   1.05493701e+03,\n",
       "            3.43843292e+02,   1.00000000e+00],\n",
       "         [  1.05251562e+03,   2.87343231e+02,   1.06865845e+03,\n",
       "            3.59179016e+02,   1.00000000e+00],\n",
       "         [  1.04847986e+03,   2.76850342e+02,   1.08237988e+03,\n",
       "            3.61600464e+02,   1.00000000e+00],\n",
       "         [  1.75957367e+02,   3.09136108e+02,   2.92186096e+02,\n",
       "            4.73793457e+02,   8.00000000e+00]]], dtype=float32),\n",
       " array([[[  1.25085747e+02,   3.46188019e+02,   1.41822571e+02,\n",
       "            4.11373535e+02,   1.00000000e+00],\n",
       "         [  3.54996857e+02,   1.40941681e+02,   1.77938879e+03,\n",
       "            4.11373535e+02,   6.00000000e+00]]], dtype=float32),\n",
       " array([[[  8.71723877e+02,   3.17971680e+02,   8.87497925e+02,\n",
       "            3.63633392e+02,   1.00000000e+00],\n",
       "         [  1.06848438e+03,   3.07178894e+02,   1.07429590e+03,\n",
       "            3.09669525e+02,   1.00000000e+00],\n",
       "         [  1.05354053e+03,   3.10499756e+02,   1.06184277e+03,\n",
       "            3.21292511e+02,   1.00000000e+00],\n",
       "         [  1.23203638e+03,   2.81442291e+02,   1.26441479e+03,\n",
       "            3.65293823e+02,   1.00000000e+00],\n",
       "         [  1.27271692e+03,   2.88914215e+02,   1.30841602e+03,\n",
       "            3.63633392e+02,   1.00000000e+00],\n",
       "         [  6.34282898e+02,   3.32085297e+02,   6.36773560e+02,\n",
       "            3.52010406e+02,   1.00000000e+00],\n",
       "         [  6.35113098e+02,   3.25443573e+02,   6.45905884e+02,\n",
       "            3.52010406e+02,   1.00000000e+00],\n",
       "         [  8.36854919e+02,   3.22952942e+02,   8.46817505e+02,\n",
       "            3.55331268e+02,   1.00000000e+00],\n",
       "         [  8.26062134e+02,   3.24613373e+02,   8.36024719e+02,\n",
       "            3.56161469e+02,   1.00000000e+00],\n",
       "         [  8.15269409e+02,   3.26273804e+02,   8.22741333e+02,\n",
       "            3.55331268e+02,   1.00000000e+00],\n",
       "         [  9.04102234e+02,   3.17141449e+02,   9.17385620e+02,\n",
       "            3.56161469e+02,   2.00000000e+00],\n",
       "         [  9.14064758e+02,   3.15481018e+02,   9.35650330e+02,\n",
       "            3.66124023e+02,   2.00000000e+00],\n",
       "         [  8.85837524e+02,   3.31255066e+02,   8.94969849e+02,\n",
       "            3.47029144e+02,   3.00000000e+00],\n",
       "         [  9.43952454e+02,   3.23783173e+02,   9.91274597e+02,\n",
       "            3.64463593e+02,   3.00000000e+00],\n",
       "         [  9.79651611e+02,   3.14650818e+02,   1.05603125e+03,\n",
       "            3.84388733e+02,   3.00000000e+00],\n",
       "         [  1.03527588e+03,   3.04688263e+02,   1.19218616e+03,\n",
       "            4.18427460e+02,   3.00000000e+00],\n",
       "         [  7.42210632e+02,   3.27104004e+02,   7.58814880e+02,\n",
       "            3.43708282e+02,   3.00000000e+00],\n",
       "         [  7.26436584e+02,   3.27934235e+02,   7.48022095e+02,\n",
       "            3.44538483e+02,   3.00000000e+00],\n",
       "         [  7.06511475e+02,   3.29594666e+02,   7.38059570e+02,\n",
       "            3.46198914e+02,   3.00000000e+00],\n",
       "         [  6.66661194e+02,   3.27934235e+02,   6.94058289e+02,\n",
       "            3.47859344e+02,   3.00000000e+00],\n",
       "         [  6.27641174e+02,   3.30424866e+02,   6.72472717e+02,\n",
       "            3.51180206e+02,   3.00000000e+00],\n",
       "         [  5.66205444e+02,   3.28764435e+02,   5.76998169e+02,\n",
       "            3.51180206e+02,   3.00000000e+00],\n",
       "         [  5.23034363e+02,   3.21292511e+02,   5.68696045e+02,\n",
       "            3.56161469e+02,   3.00000000e+00],\n",
       "         [  5.76167969e+02,   3.23783173e+02,   6.26810974e+02,\n",
       "            3.61142761e+02,   3.00000000e+00],\n",
       "         [  5.32166687e+02,   3.29594666e+02,   5.53752197e+02,\n",
       "            3.56991699e+02,   3.00000000e+00],\n",
       "         [  5.03939423e+02,   3.22952942e+02,   5.37147949e+02,\n",
       "            3.56991699e+02,   3.00000000e+00],\n",
       "         [  5.18053040e+02,   3.27934235e+02,   5.32996887e+02,\n",
       "            3.59482330e+02,   3.00000000e+00],\n",
       "         [  4.38352570e+02,   3.22952942e+02,   5.07260284e+02,\n",
       "            3.62803192e+02,   3.00000000e+00],\n",
       "         [  4.45824493e+02,   3.29594666e+02,   4.88995605e+02,\n",
       "            3.62803192e+02,   3.00000000e+00],\n",
       "         [  4.17597260e+02,   3.30424866e+02,   4.78202820e+02,\n",
       "            3.64463593e+02,   3.00000000e+00],\n",
       "         [  3.45368713e+02,   3.12990387e+02,   4.36692169e+02,\n",
       "            3.67784454e+02,   3.00000000e+00],\n",
       "         [  3.12990387e+02,   3.17971680e+02,   3.76916809e+02,\n",
       "            3.71105316e+02,   3.00000000e+00],\n",
       "         [  2.42422256e+02,   3.21292511e+02,   3.40387421e+02,\n",
       "            3.74426178e+02,   3.00000000e+00],\n",
       "         [  1.89288620e+02,   3.27104004e+02,   2.46573334e+02,\n",
       "            3.81067871e+02,   3.00000000e+00],\n",
       "         [  1.58570724e+02,   3.21292511e+02,   2.03402237e+02,\n",
       "            3.83558502e+02,   3.00000000e+00],\n",
       "         [  9.29838791e+01,   3.20462311e+02,   1.80156265e+02,\n",
       "            3.85218933e+02,   3.00000000e+00],\n",
       "         [  1.07927723e+01,   3.20462311e+02,   1.41966461e+02,\n",
       "            3.89369995e+02,   3.00000000e+00],\n",
       "         [  4.98127937e+00,   3.23783173e+02,   8.30213242e+01,\n",
       "            3.92690857e+02,   3.00000000e+00],\n",
       "         [  4.98127937e+00,   3.46198914e+02,   1.66042652e+01,\n",
       "            3.81067871e+02,   3.00000000e+00],\n",
       "         [  9.09083496e+02,   3.40387421e+02,   9.16555420e+02,\n",
       "            3.69444885e+02,   8.00000000e+00],\n",
       "         [  9.21536682e+02,   3.40387421e+02,   9.29838806e+02,\n",
       "            3.70275085e+02,   8.00000000e+00],\n",
       "         [  8.76705139e+02,   3.39557220e+02,   8.84177063e+02,\n",
       "            3.69444885e+02,   8.00000000e+00]]], dtype=float32),\n",
       " array([[[  4.61511345e+01,   3.09871887e+02,   1.07960686e+02,\n",
       "            4.22777344e+02,   1.00000000e+00],\n",
       "         [  2.52182983e+02,   3.08223633e+02,   2.78555054e+02,\n",
       "            3.51078278e+02,   1.00000000e+00],\n",
       "         [  5.45572327e+02,   3.28002716e+02,   5.62879028e+02,\n",
       "            3.88988129e+02,   1.00000000e+00],\n",
       "         [  5.12607239e+02,   3.32123352e+02,   5.20024414e+02,\n",
       "            3.64264313e+02,   1.00000000e+00],\n",
       "         [  5.15079651e+02,   3.25530334e+02,   5.41451721e+02,\n",
       "            4.07943054e+02,   1.00000000e+00],\n",
       "         [  5.53813599e+02,   3.18937317e+02,   5.89251099e+02,\n",
       "            4.27722107e+02,   1.00000000e+00],\n",
       "         [  6.21392029e+02,   3.26354462e+02,   6.38698730e+02,\n",
       "            3.80746857e+02,   1.00000000e+00],\n",
       "         [  6.35402222e+02,   3.23882080e+02,   6.64246704e+02,\n",
       "            3.84043365e+02,   1.00000000e+00],\n",
       "         [  6.92267029e+02,   3.29650970e+02,   7.07101318e+02,\n",
       "            3.81570984e+02,   1.00000000e+00],\n",
       "         [  7.01332397e+02,   3.25530334e+02,   7.20287354e+02,\n",
       "            3.80746857e+02,   1.00000000e+00],\n",
       "         [  1.15048181e+03,   3.13992523e+02,   1.19498474e+03,\n",
       "            4.21953217e+02,   1.00000000e+00],\n",
       "         [  7.46659424e+02,   3.34595734e+02,   7.60669617e+02,\n",
       "            3.81570984e+02,   1.00000000e+00],\n",
       "         [  7.74679749e+02,   3.32123352e+02,   7.88689941e+02,\n",
       "            3.80746857e+02,   1.00000000e+00],\n",
       "         [  7.87865784e+02,   3.27178589e+02,   8.09293091e+02,\n",
       "            3.99701782e+02,   1.00000000e+00],\n",
       "         [  8.29072144e+02,   3.36243988e+02,   8.44730591e+02,\n",
       "            3.82395111e+02,   1.00000000e+00],\n",
       "         [  8.52971863e+02,   3.39540497e+02,   8.73575012e+02,\n",
       "            3.81570984e+02,   1.00000000e+00],\n",
       "         [  8.08468994e+02,   3.28002716e+02,   8.24951538e+02,\n",
       "            3.81570984e+02,   1.00000000e+00],\n",
       "         [  7.94458801e+02,   3.32947479e+02,   8.15886108e+02,\n",
       "            4.06294800e+02,   1.00000000e+00],\n",
       "         [  7.55724792e+02,   3.30475098e+02,   7.84569275e+02,\n",
       "            4.07118927e+02,   1.00000000e+00],\n",
       "         [  2.58776001e+02,   2.58776001e+02,   4.63159607e+02,\n",
       "            4.25249725e+02,   4.00000000e+00],\n",
       "         [  1.20405017e+03,   3.43661133e+02,   1.26915625e+03,\n",
       "            4.27722107e+02,   8.00000000e+00],\n",
       "         [  8.43906433e+02,   3.56023041e+02,   8.86761108e+02,\n",
       "            3.81570984e+02,   8.00000000e+00]]], dtype=float32),\n",
       " array([[[ 1072.17297363,   397.35174561,  1106.97741699,   436.0234375 ,\n",
       "              3.        ],\n",
       "         [  865.27935791,   380.91625977,  1008.36462402,   493.06420898,\n",
       "              3.        ],\n",
       "         [  712.52612305,   396.38494873,   845.94348145,   489.19702148,\n",
       "              3.        ],\n",
       "         [ 1025.7668457 ,   403.15249634,  1097.30957031,   451.49212646,\n",
       "              3.        ],\n",
       "         [  168.22190857,   392.51776123,   514.33361816,   575.24157715,\n",
       "              3.        ],\n",
       "         [ 1100.20996094,   364.48080444,  1236.52770996,   491.13061523,\n",
       "              3.        ],\n",
       "         [    5.8007555 ,   397.35174561,   218.49511719,   950.35705566,\n",
       "              3.        ],\n",
       "         [ 1010.29821777,   363.51400757,  1066.37219238,   403.15249634,\n",
       "              4.        ]]], dtype=float32),\n",
       " array([[[  1.57619592e+03,   3.58142670e+02,   1.60841956e+03,\n",
       "            4.24431274e+02,   1.00000000e+00],\n",
       "         [  8.88451599e+02,   3.43411865e+02,   8.94896301e+02,\n",
       "            3.57221985e+02,   1.00000000e+00],\n",
       "         [  8.75562134e+02,   3.44332520e+02,   8.87530884e+02,\n",
       "            3.56301300e+02,   1.00000000e+00],\n",
       "         [  1.06522119e+03,   4.06938446e+02,   1.08363477e+03,\n",
       "            4.12462494e+02,   1.00000000e+00],\n",
       "         [  1.09192078e+03,   3.34205109e+02,   1.13150989e+03,\n",
       "            4.21669250e+02,   1.00000000e+00],\n",
       "         [  1.45098413e+03,   3.59063324e+02,   1.46663562e+03,\n",
       "            4.15224518e+02,   1.00000000e+00],\n",
       "         [  1.51359009e+03,   3.54459961e+02,   1.54121033e+03,\n",
       "            4.25351959e+02,   1.00000000e+00],\n",
       "         [  1.60381616e+03,   3.50777252e+02,   1.62959509e+03,\n",
       "            4.26272614e+02,   1.00000000e+00],\n",
       "         [  4.21669250e+02,   3.46173889e+02,   5.25705566e+02,\n",
       "            3.87604279e+02,   3.00000000e+00],\n",
       "         [  2.56868378e+02,   3.46173889e+02,   4.32717346e+02,\n",
       "            4.33638031e+02,   3.00000000e+00],\n",
       "         [  1.56514786e+02,   3.27760376e+02,   2.94616058e+02,\n",
       "            4.41924103e+02,   3.00000000e+00],\n",
       "         [  5.52405119e+00,   3.36967133e+02,   7.82573929e+01,\n",
       "            4.54813568e+02,   3.00000000e+00],\n",
       "         [  6.15931702e+02,   3.43411865e+02,   6.84061707e+02,\n",
       "            3.94048981e+02,   3.00000000e+00],\n",
       "         [  5.39515686e+02,   3.46173889e+02,   6.31583191e+02,\n",
       "            4.10621155e+02,   3.00000000e+00],\n",
       "         [  1.03668030e+03,   3.52618591e+02,   1.11862036e+03,\n",
       "            4.15224518e+02,   3.00000000e+00],\n",
       "         [  1.18675037e+03,   3.54459961e+02,   1.20792590e+03,\n",
       "            3.68270081e+02,   3.00000000e+00],\n",
       "         [  1.18306763e+03,   3.65508057e+02,   1.20700525e+03,\n",
       "            3.84842224e+02,   3.00000000e+00],\n",
       "         [  1.06982458e+03,   3.16712280e+02,   1.15820947e+03,\n",
       "            3.84842224e+02,   6.00000000e+00]]], dtype=float32),\n",
       " array([[[  871.59765625,   380.48071289,   910.27532959,   405.66619873,\n",
       "              3.        ],\n",
       "         [  885.08984375,   382.27966309,   926.46600342,   408.36462402,\n",
       "              3.        ],\n",
       "         [  970.54058838,   375.98330688,   975.9375    ,   385.87759399,\n",
       "              3.        ],\n",
       "         [  975.9375    ,   366.98849487,  1011.91674805,   384.0786438 ,\n",
       "              3.        ],\n",
       "         [  978.63592529,   382.27966309,  1020.01208496,   406.56567383,\n",
       "              3.        ],\n",
       "         [ 1012.81622314,   351.69729614,  1084.77478027,   392.17398071,\n",
       "              3.        ],\n",
       "         [ 1015.51470947,   375.98330688,  1043.39868164,   429.05270386,\n",
       "              3.        ],\n",
       "         [ 1027.20800781,   372.38537598,  1054.19238281,   439.84649658,\n",
       "              3.        ],\n",
       "         [  913.87329102,   376.88278198,   984.93231201,   431.75115967,\n",
       "              3.        ],\n",
       "         [ 1037.10229492,   361.59158325,  1121.65356445,   447.04232788,\n",
       "              3.        ],\n",
       "         [ 1052.39343262,   368.78744507,  1123.45251465,   456.03717041,\n",
       "              3.        ],\n",
       "         [ 1087.4732666 ,   375.08380127,  1119.85461426,   459.6350708 ,\n",
       "              3.        ],\n",
       "         [ 1091.07116699,   359.79263306,  1177.42138672,   481.22265625,\n",
       "              3.        ],\n",
       "         [ 1138.74365234,   355.29522705,  1241.2845459 ,   508.20709229,\n",
       "              3.        ],\n",
       "         [ 1162.13024902,   349.89834595,  1409.4876709 ,   546.88482666,\n",
       "              3.        ],\n",
       "         [ 1364.5135498 ,   286.93463135,  1796.26464844,   685.40496826,\n",
       "              3.        ],\n",
       "         [ 1528.21923828,   303.12530518,  1836.74133301,   811.33239746,\n",
       "              3.        ]]], dtype=float32),\n",
       " array([[[ 1068.97131348,   371.85925293,  1099.71166992,   387.72521973,\n",
       "              3.        ],\n",
       "         [ 1018.39849854,   373.84249878,  1068.97131348,   406.56610107,\n",
       "              3.        ],\n",
       "         [  992.61627197,   382.76712036,  1018.39849854,   432.34832764,\n",
       "              3.        ],\n",
       "         [  965.84240723,   378.80059814,  1005.50738525,   441.27294922,\n",
       "              3.        ],\n",
       "         [ 1095.74523926,   344.09375   ,  1166.1505127 ,   415.49072266,\n",
       "              3.        ],\n",
       "         [ 1110.61962891,   369.87597656,  1173.09191895,   421.44046021,\n",
       "              3.        ],\n",
       "         [ 1121.52746582,   379.79223633,  1175.07519531,   428.38183594,\n",
       "              3.        ],\n",
       "         [ 1132.43530273,   383.75872803,  1170.11706543,   439.28970337,\n",
       "              3.        ],\n",
       "         [ 1019.39013672,   378.80059814,  1109.62792969,   445.23947144,\n",
       "              3.        ],\n",
       "         [  839.90606689,   340.1272583 ,   977.74188232,   473.99658203,\n",
       "              3.        ],\n",
       "         [ 1140.36828613,   384.75036621,  1227.63134766,   452.18084717,\n",
       "              3.        ],\n",
       "         [ 1203.83227539,   382.76712036,  1266.3046875 ,   490.85418701,\n",
       "              3.        ],\n",
       "         [ 1215.73181152,   384.75036621,  1265.31298828,   505.72857666,\n",
       "              3.        ],\n",
       "         [ 1235.56433105,   328.22775269,  1503.30297852,   541.42706299,\n",
       "              3.        ],\n",
       "         [  809.16571045,   368.8843689 ,   927.16900635,   514.65319824,\n",
       "              3.        ],\n",
       "         [  555.30981445,   358.96810913,   867.67156982,   590.0166626 ,\n",
       "              3.        ],\n",
       "         [ 1285.14550781,   368.8843689 ,  1715.51062012,   654.47229004,\n",
       "              3.        ],\n",
       "         [ 1734.35144043,   398.63311768,  1806.7401123 ,   516.63641357,\n",
       "              8.        ]]], dtype=float32),\n",
       " array([[[  1.38689624e+03,   2.97851288e+02,   1.40032056e+03,\n",
       "            3.08758514e+02,   1.00000000e+00],\n",
       "         [  1.40535474e+03,   2.97851288e+02,   1.41206677e+03,\n",
       "            3.04563446e+02,   1.00000000e+00],\n",
       "         [  1.36424280e+03,   2.99529327e+02,   1.38102319e+03,\n",
       "            3.27216919e+02,   1.00000000e+00],\n",
       "         [  1.46408594e+03,   2.76875854e+02,   1.52365613e+03,\n",
       "            4.21186890e+02,   2.00000000e+00],\n",
       "         [  1.69397681e+03,   2.92817169e+02,   1.70404504e+03,\n",
       "            3.17148712e+02,   3.00000000e+00],\n",
       "         [  1.56225098e+03,   2.97851288e+02,   1.64447473e+03,\n",
       "            3.65811737e+02,   3.00000000e+00],\n",
       "         [  1.45905176e+03,   2.97851288e+02,   1.58406543e+03,\n",
       "            3.79236023e+02,   3.00000000e+00],\n",
       "         [  1.36927698e+03,   3.02885406e+02,   1.47583215e+03,\n",
       "            3.75040924e+02,   3.00000000e+00],\n",
       "         [  1.00933832e+03,   3.14631653e+02,   1.15616638e+03,\n",
       "            4.16152802e+02,   3.00000000e+00],\n",
       "         [  1.23419507e+03,   3.07919495e+02,   1.35920874e+03,\n",
       "            4.01889496e+02,   3.00000000e+00],\n",
       "         [  4.12796722e+02,   3.30572968e+02,   5.83117310e+02,\n",
       "            4.37967255e+02,   3.00000000e+00],\n",
       "         [  5.03410625e+00,   3.37285126e+02,   5.95702591e+01,\n",
       "            5.26903137e+02,   3.00000000e+00],\n",
       "         [  1.48086633e+03,   3.47353333e+02,   1.50603687e+03,\n",
       "            4.32094116e+02,   8.00000000e+00]]], dtype=float32),\n",
       " array([[[ 1015.08209229,   407.19625854,  1051.92370605,   430.46459961,\n",
       "              3.        ],\n",
       "         [  842.50842285,   390.71450806,   886.13659668,   459.55004883,\n",
       "              3.        ],\n",
       "         [  859.9597168 ,   395.56207275,   891.95367432,   464.39764404,\n",
       "              3.        ],\n",
       "         [  886.13659668,   363.56808472,  1022.8381958 ,   477.97085571,\n",
       "              3.        ],\n",
       "         [ 1468.81506348,   379.08032227,  1979.74938965,   742.6484375 ,\n",
       "              3.        ]]], dtype=float32)]"
      ]
     },
     "execution_count": 37,
     "metadata": {},
     "output_type": "execute_result"
    }
   ],
   "source": [
    "label['gt_boxes']"
   ]
  },
  {
   "cell_type": "code",
   "execution_count": 36,
   "metadata": {},
   "outputs": [
    {
     "data": {
      "text/plain": [
       "array([[  8.27000000e+02,   1.65300000e+03,   8.07143867e-01],\n",
       "       [  9.02000000e+02,   1.80400000e+03,   8.80885541e-01],\n",
       "       [  8.50000000e+02,   1.70000000e+03,   8.30213249e-01],\n",
       "       [  8.44000000e+02,   1.68800000e+03,   8.24127376e-01],\n",
       "       [  9.90000000e+02,   1.98000000e+03,   9.66792524e-01],\n",
       "       [  9.43000000e+02,   1.88600000e+03,   9.20675218e-01],\n",
       "       [  9.21000000e+02,   1.84200000e+03,   8.99481595e-01],\n",
       "       [  1.01500000e+03,   2.03100000e+03,   9.91624653e-01],\n",
       "       [  8.59000000e+02,   1.71800000e+03,   8.39017749e-01],\n",
       "       [  9.93000000e+02,   1.98600000e+03,   9.69514906e-01]], dtype=float32)"
      ]
     },
     "execution_count": 36,
     "metadata": {},
     "output_type": "execute_result"
    }
   ],
   "source": [
    "data['im_info']"
   ]
  },
  {
   "cell_type": "code",
   "execution_count": null,
   "metadata": {},
   "outputs": [],
   "source": []
  },
  {
   "cell_type": "code",
   "execution_count": null,
   "metadata": {},
   "outputs": [],
   "source": []
  }
 ],
 "metadata": {
  "kernelspec": {
   "display_name": "Python 2",
   "language": "python",
   "name": "python2"
  },
  "language_info": {
   "codemirror_mode": {
    "name": "ipython",
    "version": 2
   },
   "file_extension": ".py",
   "mimetype": "text/x-python",
   "name": "python",
   "nbconvert_exporter": "python",
   "pygments_lexer": "ipython2",
   "version": "2.7.12"
  }
 },
 "nbformat": 4,
 "nbformat_minor": 2
}
